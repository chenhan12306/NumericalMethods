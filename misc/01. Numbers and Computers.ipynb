{
 "cells": [
  {
   "cell_type": "markdown",
   "metadata": {
    "nbpresent": {
     "id": "25797aec-dbcc-4861-8e0f-eb550f6f6e3d"
    },
    "slideshow": {
     "slide_type": "slide"
    }
   },
   "source": [
    "# Significant Digits\n",
    "The significant digits of a number are those that we know with confidence. Numbers on a computer are not different.\n"
   ]
  },
  {
   "cell_type": "markdown",
   "metadata": {
    "nbpresent": {
     "id": "ffe668aa-0d49-42de-8865-fc808cdd7ab3"
    },
    "slideshow": {
     "slide_type": "slide"
    }
   },
   "source": [
    "Floating point numbers are represented in the the form\n",
    "\\begin{equation}\n",
    "m \\times b^e\n",
    "\\end{equation}\n",
    "where $m$ is called the mantissa and represents the digits of the number, $b$ is the base (10 for decial, 2 for binary, 8 for octal...), and $e$ is the exponent."
   ]
  },
  {
   "cell_type": "markdown",
   "metadata": {
    "nbpresent": {
     "id": "6dbdd4d2-64f2-4663-bc5e-de6c53cb24aa"
    },
    "slideshow": {
     "slide_type": "slide"
    }
   },
   "source": [
    "These numbers are stored in a computer as a series of digits to represent the sign of the number, the mantissa, and the exponent, such that\n",
    "<img src=\"figures/mantissa.png\" width=\"600\" align=\"center\">\n",
    "This representation divides the memory into bits or registers and each digit occupies one of those bits. The digits in a number will occupy the manitssa up to however many places are allowed by the computer. For example, if a computer has a 7 bit representation where 1 bit is reserved for the sign of the number, 2 bits are reserved for the signed exponent, and 4 bits are reserved for the mantissa, then, the number 0.5468113287 is represented as:\n",
    "++00547\n",
    "\n",
    "Note how the computer had to round (or chop) the last digit. This chopping or rounding leads to round of errors (discussed later), but keep that in mind for the moment. The implications of this are very important."
   ]
  },
  {
   "cell_type": "markdown",
   "metadata": {
    "nbpresent": {
     "id": "58de0105-a65c-4ec2-9e10-7eabd48398ec"
    },
    "slideshow": {
     "slide_type": "slide"
    }
   },
   "source": [
    "## Example 1"
   ]
  },
  {
   "cell_type": "markdown",
   "metadata": {
    "nbpresent": {
     "id": "20cb4a15-3217-4606-84d7-96ec95181dd8"
    },
    "slideshow": {
     "slide_type": "slide"
    }
   },
   "source": [
    "When two floating-point numbers are added, the mantissa of the number with the smaller exponent is modified so that the exponents are the same. This will align the decimal points to make addition straightforward. Suppose we wanted to add \n",
    "\n",
    "$0.1557\\times 10^1 + 0.4381 \\times 10^{-1}$ \n",
    "\n",
    "on a computer that with a four digit mantissa and a one digit exponent. First the computer will align the number with the smallest exponent to the number with the larger one, such that:\n",
    "\n",
    "$0.4381 \\times 10^{-1} \\to 0.004381 \\times 10^1$\n",
    "\n",
    "But this result can't fit on the mantissa, so the number either gets chopped ($0.004381 \\to 0.0043$ or rounded $0.004381 \\to 0.0044$). Now the addition returns $0.1600\\times 10^1$."
   ]
  },
  {
   "cell_type": "markdown",
   "metadata": {
    "nbpresent": {
     "id": "2dc66772-30ec-459e-b2cb-0871bc33eca1"
    },
    "slideshow": {
     "slide_type": "slide"
    }
   },
   "source": [
    "In practice, numbers in a computer are represented using a binary system following the same idea for the exponent and mantissa discussed above."
   ]
  },
  {
   "cell_type": "markdown",
   "metadata": {
    "nbpresent": {
     "id": "e7beeeca-27c8-41ba-aac7-97214855be44"
    },
    "slideshow": {
     "slide_type": "slide"
    }
   },
   "source": [
    "Modern computers can deal with a huge mantissas and can represent very large and very small numbers. For a 32bit representation (default float in Python and Matlab), the mantissa is a whopping 24 bits! But still, round off errors are present!"
   ]
  },
  {
   "cell_type": "markdown",
   "metadata": {
    "nbpresent": {
     "id": "f8774eb6-d662-4d58-b746-24edbfaaaac6"
    },
    "slideshow": {
     "slide_type": "slide"
    }
   },
   "source": [
    "## Example 2\n",
    "Let's add a large number to a small number"
   ]
  },
  {
   "cell_type": "code",
   "execution_count": 39,
   "metadata": {
    "nbpresent": {
     "id": "5203efbe-6412-4c82-830e-87f111b14e4a"
    },
    "slideshow": {
     "slide_type": "slide"
    }
   },
   "outputs": [
    {
     "data": {
      "text/plain": [
       "1e+18"
      ]
     },
     "execution_count": 39,
     "metadata": {},
     "output_type": "execute_result"
    }
   ],
   "source": [
    "x = 1e18\n",
    "x - 1"
   ]
  },
  {
   "cell_type": "markdown",
   "metadata": {
    "nbpresent": {
     "id": "7d886522-e22f-481e-b475-b0516ee2af84"
    },
    "slideshow": {
     "slide_type": "slide"
    }
   },
   "source": [
    "now try to evaluate $ x - x + 1$ and compare that to $x - (x-1)$"
   ]
  },
  {
   "cell_type": "code",
   "execution_count": 40,
   "metadata": {
    "nbpresent": {
     "id": "b5be5fa6-120a-481e-996c-b50bfc3484a4"
    },
    "slideshow": {
     "slide_type": "slide"
    }
   },
   "outputs": [
    {
     "data": {
      "text/plain": [
       "1.0"
      ]
     },
     "execution_count": 40,
     "metadata": {},
     "output_type": "execute_result"
    }
   ],
   "source": [
    "x - x + 1"
   ]
  },
  {
   "cell_type": "code",
   "execution_count": 43,
   "metadata": {
    "nbpresent": {
     "id": "8362bb85-4b73-4f98-93b9-0424638f0d1f"
    },
    "slideshow": {
     "slide_type": "slide"
    }
   },
   "outputs": [
    {
     "data": {
      "text/plain": [
       "0.0"
      ]
     },
     "execution_count": 43,
     "metadata": {},
     "output_type": "execute_result"
    }
   ],
   "source": [
    "x - (x-1)"
   ]
  },
  {
   "cell_type": "markdown",
   "metadata": {
    "nbpresent": {
     "id": "83c479f9-ecb8-4d86-b594-5b62bff86724"
    },
    "slideshow": {
     "slide_type": "slide"
    }
   },
   "source": [
    "The impact of the binary representation also has other effects. Fractions for example cannot be fully represented in binary digits and have to be roudned on chopped!\n",
    "For example, the true value of \n",
    "\n",
    "$1/10 = 0.1 = 0.000 11 00 11 00 11 00 11 00 11 00 \\ldots $\n",
    "\n",
    "but in practice, on a 32-bit representation, this number gets chopped or rounded. Here's an example of how this could induce error."
   ]
  },
  {
   "cell_type": "markdown",
   "metadata": {
    "nbpresent": {
     "id": "55a25382-954d-4d6f-956a-3244b0f46688"
    }
   },
   "source": [
    "## Example 3\n",
    "In numerical methods, we often have to iterate and repeat calculations hundreds of thousands of times. This leads to accumulation of round off errors. Consider for example evaluating the sum\n",
    "\n",
    "$\\sum_1^{10^5} 10^{-5} = 10^{-5} + 10^{-5} + \\ldots + 10^{-5} = 100,000 \\times 10^{-5} = 1$\n",
    "\n",
    "Perform this summation using half (np.float16), single (np.float32), double (np.float64), and triple precision (np.float128)"
   ]
  },
  {
   "cell_type": "code",
   "execution_count": 16,
   "metadata": {
    "nbpresent": {
     "id": "82db3330-9771-4c0b-ac3b-808979863bd7"
    }
   },
   "outputs": [
    {
     "name": "stdout",
     "output_type": "stream",
     "text": [
      "9997.55859375\n",
      "10000.000149011612\n",
      "10000.000000018848\n",
      "9999.999999999998721\n"
     ]
    }
   ],
   "source": [
    "import numpy as np # we need numpy to define the different floats\n",
    "x = 0.1\n",
    "s16 = s32 = s64 = s128 = 0.0\n",
    "ntotal = 100000\n",
    "exactval = x*ntotal\n",
    "for i in range(0,ntotal):\n",
    "    s16 = s16 + np.float16(x)\n",
    "    s32 = s32 + np.float32(x)\n",
    "    s64 = s64 + np.float64(x)    \n",
    "    s128 = s128 + np.float128(x)        \n",
    "print(s16)\n",
    "print(s32)\n",
    "print(s64)\n",
    "print(s128)"
   ]
  },
  {
   "cell_type": "code",
   "execution_count": 17,
   "metadata": {},
   "outputs": [
    {
     "name": "stdout",
     "output_type": "stream",
     "text": [
      "-2.44140625\n",
      "0.00014901161193847656\n",
      "1.8848368199542165e-08\n",
      "-1.2789769243681803346e-12\n"
     ]
    }
   ],
   "source": [
    "print((s16 - exactval))\n",
    "print((s32 - exactval))\n",
    "print((s64 - exactval))\n",
    "print((s128 - exactval))"
   ]
  },
  {
   "cell_type": "code",
   "execution_count": 14,
   "metadata": {},
   "outputs": [
    {
     "name": "stdout",
     "output_type": "stream",
     "text": [
      "0.3333\n"
     ]
    }
   ],
   "source": [
    "print(np.float16(1.0/3.0))"
   ]
  },
  {
   "cell_type": "code",
   "execution_count": null,
   "metadata": {},
   "outputs": [],
   "source": []
  }
 ],
 "metadata": {
  "anaconda-cloud": {},
  "celltoolbar": "Slideshow",
  "kernelspec": {
   "display_name": "Python [default]",
   "language": "python",
   "name": "python3"
  },
  "language_info": {
   "codemirror_mode": {
    "name": "ipython",
    "version": 3
   },
   "file_extension": ".py",
   "mimetype": "text/x-python",
   "name": "python",
   "nbconvert_exporter": "python",
   "pygments_lexer": "ipython3",
   "version": "3.6.5"
  },
  "toc": {
   "base_numbering": 1,
   "nav_menu": {},
   "number_sections": true,
   "sideBar": true,
   "skip_h1_title": false,
   "title_cell": "Table of Contents",
   "title_sidebar": "Contents",
   "toc_cell": false,
   "toc_position": {},
   "toc_section_display": true,
   "toc_window_display": false
  }
 },
 "nbformat": 4,
 "nbformat_minor": 2
}
