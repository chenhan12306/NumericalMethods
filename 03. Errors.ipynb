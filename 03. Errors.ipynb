{
 "cells": [
  {
   "cell_type": "markdown",
   "metadata": {},
   "source": [
    "# Introduction\n",
    "In the falling parachutist problem we encountered an error - there was a difference between the numerical calculation and the analytical solution. There are numerous types of errors associated with an engineering mathematical model:\n",
    "1. Modeling errors: These have to do with the fact that we can never describe reality exactely and/or our model neglects certain effects (e.g. sidewind in the parachutist example).\n",
    "2. Numerical errors: These have to do directly with the numerical method used and can be generally categorized as\n",
    "    * Round-off errors: due to the limited representation of numbers on computers\n",
    "    * Truncation error: due to approximating exact mathematical operators"
   ]
  },
  {
   "cell_type": "markdown",
   "metadata": {},
   "source": [
    "## Errors\n",
    "The basic definition of an error is\n",
    "\\begin{equation}\n",
    "\\text{True Error = True Value - Approximation}\n",
    "\\end{equation}"
   ]
  },
  {
   "cell_type": "markdown",
   "metadata": {},
   "source": [
    "For simplicity, denote the \"True Error\" as $E_\\text{t}$.\n",
    "There is a problem with this definition however - it does not take into account the \"magnitude\" of the true value. For example, an error of one centimeter is much more significant if we are measuring a rivet rather than a bridge. To fix this, we define the true relative error, $\\epsilon_\\text{t}$:\n",
    "\\begin{equation}\n",
    "\\text{True Relative Error} = \\frac{\\text{True Error}}{\\text{True Value}}\n",
    "\\end{equation}\n",
    "or\n",
    "\\begin{equation}\n",
    "\\epsilon_\\text{t} = \\frac{E_\\text{t}}{\\text{True Value}}\n",
    "\\end{equation}"
   ]
  },
  {
   "cell_type": "markdown",
   "metadata": {},
   "source": [
    "### Example\n",
    "Suppose that you have the task of measuring the lengths of a bridge and a rivet and come up with 9999 and 9 cm, respectively. If the true values are 10,000 and 10 cm, respectively, compute (a) the true error and (b) the true percent relative error for each case.\n",
    "\n",
    "#### Solution\n",
    "For the bridge, the True Error is:\n",
    "\\begin{equation}\n",
    "E_\\text{t} = 10,000 - 9999 = 1 \\text{cm}\n",
    "\\end{equation}\n",
    "while for the rivet\n",
    "\\begin{equation}\n",
    "E_\\text{t} = 10 - 9 = 1 \\text{cm}\n",
    "\\end{equation}\n",
    "Both measurements have the same true error. But we known intuitively that the 1 cm is a bigger deal for the rivet. We can show this by using the relative error.\n",
    "For the bridge, we have\n",
    "\\begin{equation}\n",
    "\\epsilon_\\text{t} = \\frac{E_\\text{t}}{\\text{True Value}} \\times 100\\%= \\frac{1}{10,000} \\times 100\\% = 0.01 \\%\n",
    "\\end{equation}\n",
    "while for the rivet,\n",
    "\\begin{equation}\n",
    "\\epsilon_\\text{t} = \\frac{1}{10}\\times 100\\% = 10 \\%\n",
    "\\end{equation}"
   ]
  },
  {
   "cell_type": "markdown",
   "metadata": {},
   "source": [
    "Note that we used the words \"True Error\" - this is because the definition is based on the \"True Value\" - but this doesn't make sense since if we know the true value then we don't need an approximation! \n",
    "\n",
    "This definition is still important however because it lays the foundations of error analysis. In addition, when testing any numerical method, we first try it out on problems where the True Value is known (e.g. analytical solution). What we often do is figure out an approximation for the true value or find the best estimate of the true value.\n",
    "\n",
    "Another common situation in numerical methods is iteration: repeating the same task over and over again. What we can do in that case is define an iterative error as the difference between current and previous iterations:\n",
    "\\begin{equation}\n",
    "\\epsilon_\\text{a} = \\frac{ \\text{current approximation} - \\text{previous approximation} }{ \\text{current approximation} }\\times 100\\%\n",
    "\\end{equation}"
   ]
  },
  {
   "cell_type": "markdown",
   "metadata": {},
   "source": [
    "The usefulness of this definition is that it allows us to get an idea of how good our approximation is. Specifically, one can use a well known formula to determine the number of significant digits in an error. If your computed error $|\\epsilon_\\text{a}|$ (in \\%) is less than\n",
    "\\begin{equation}\n",
    "\\epsilon_\\text{s} = (0.5\\times 10^{2-n})\\%\n",
    "\\end{equation}\n",
    "then your results are accurate to at least $n$ significant digits.\n",
    "\n",
    "For example, if you want your results to be significant up to at least four digits, ($n = 4$) then your results must satify $ |\\epsilon_\\text{a}| < 0.5\\times10^{-2}\\%$ or $ |\\epsilon_\\text{a}| < 0.005\\%$.\n",
    "\n",
    "This formula can be inverted to obtain the number of significant digits. Taking the logarigthm\n",
    "\\begin{equation}\n",
    "\\log \\epsilon_\\text{s} = \\log 0.5 + 2 - n\n",
    "\\end{equation}\n",
    "and\n",
    "\\begin{equation}\n",
    "n = \\log 0.5 + 2 - \\log \\epsilon_\\text{s}\n",
    "\\end{equation}"
   ]
  },
  {
   "cell_type": "markdown",
   "metadata": {},
   "source": [
    "## Example\n",
    "The exponential function $e^x$ can be approximated with the following (Taylor) series:\n",
    "\\begin{equation}\n",
    "e^x = 1 + x + \\frac{x^2}{2} + \\frac{x^3}{3!} + \\frac{x^4}{4!} + \\frac{x^5}{5!} + \\ldots\n",
    "\\end{equation}\n",
    "Compute the true and approximate relative errors when using this formula for 1, 2, 3, 4, 5, and 6 terms. Use this formula to compute $e^{0.5}$ up to four significant digits"
   ]
  },
  {
   "cell_type": "markdown",
   "metadata": {},
   "source": [
    "### Solution\n",
    "We will first need to define a function that computes the exponential up to a certain number of terms"
   ]
  },
  {
   "cell_type": "code",
   "execution_count": 4,
   "metadata": {},
   "outputs": [],
   "source": [
    "# need to import the factorial and exponential functions from the math module\n",
    "import math\n",
    "from math import factorial, exp\n",
    "def my_exponential(x,n):\n",
    "    '''x is the exponent and n is the number of terms'''\n",
    "    result = 0.0 # initialize the result to zero\n",
    "    for i in range(0,n): # loop over the number of terms: this goes from 0 to n-1 (n terms)\n",
    "        result = result + x**i/factorial(i) # add each term at a time        \n",
    "    return result"
   ]
  },
  {
   "cell_type": "code",
   "execution_count": 5,
   "metadata": {},
   "outputs": [],
   "source": [
    "def sig_fig(error):\n",
    "    return math.floor(math.log10(0.5) + 2 - math.log10(error))"
   ]
  },
  {
   "cell_type": "code",
   "execution_count": 6,
   "metadata": {},
   "outputs": [
    {
     "name": "stdout",
     "output_type": "stream",
     "text": [
      "1 \t 1.00000000 \t 39.34693403 \t 100.00000000 \t -1\n",
      "2 \t 1.50000000 \t 9.02040104 \t 33.33333333 \t 0\n",
      "3 \t 1.62500000 \t 1.43876780 \t 7.69230769 \t 0\n",
      "4 \t 1.64583333 \t 0.17516226 \t 1.26582278 \t 1\n",
      "5 \t 1.64843750 \t 0.01721156 \t 0.15797788 \t 2\n",
      "6 \t 1.64869792 \t 0.00141649 \t 0.01579529 \t 3\n",
      "7 \t 1.64871962 \t 0.00010024 \t 0.00131626 \t 4\n",
      "8 \t 1.64872117 \t 0.00000622 \t 0.00009402 \t 5\n",
      "9 \t 1.64872127 \t 0.00000034 \t 0.00000588 \t 6\n"
     ]
    }
   ],
   "source": [
    "# Now run the function for different number of terms\n",
    "oldval = 0.0\n",
    "x = 0.5\n",
    "trueval = exp(x)\n",
    "for n in range(1,10):\n",
    "    val = my_exponential(x,n)\n",
    "    ϵt = abs( (val - trueval)/trueval ) * 100\n",
    "    ϵa = abs( (val - oldval)/val ) * 100\n",
    "    oldval = val\n",
    "    print (n,'\\t', \"%.8f\" % val, '\\t', \"%.8f\" % ϵt, '\\t', \"%.8f\" % ϵa, '\\t', sig_fig(ϵa))"
   ]
  },
  {
   "cell_type": "code",
   "execution_count": 2,
   "metadata": {},
   "outputs": [
    {
     "name": "stdout",
     "output_type": "stream",
     "text": [
      "0 100.0 %\n",
      "1 66.66666666666666 %\n",
      "2 40.0 %\n",
      "3 21.052631578947363 %\n",
      "4 9.523809523809527 %\n",
      "5 3.669724770642201 %\n",
      "6 1.2084592145015065 %\n",
      "7 0.34408602150537515 %\n",
      "8 0.08594757198109124 %\n",
      "9 0.019095813242941077 %\n"
     ]
    }
   ],
   "source": [
    "from math import factorial, exp\n",
    "oldval = 0.0\n",
    "x = 2.0\n",
    "nterms = 10\n",
    "for n in range(0,nterms):\n",
    "    newval = oldval + x**n/ factorial(n)\n",
    "    ϵa = abs( (newval - oldval)/newval) * 100\n",
    "    oldval = newval\n",
    "    print(n, ϵa,'%')"
   ]
  },
  {
   "cell_type": "code",
   "execution_count": 3,
   "metadata": {},
   "outputs": [
    {
     "name": "stdout",
     "output_type": "stream",
     "text": [
      "1 100.0 %\n",
      "2 66.66666666666666 %\n",
      "3 40.0 %\n",
      "4 21.052631578947363 %\n",
      "5 9.523809523809527 %\n",
      "6 3.669724770642201 %\n",
      "7 1.2084592145015065 %\n",
      "8 0.34408602150537515 %\n",
      "9 0.08594757198109124 %\n",
      "10 0.019095813242941077 %\n",
      "11 0.0038190167941204627 %\n"
     ]
    }
   ],
   "source": [
    "from math import factorial, exp\n",
    "oldval = 0.0\n",
    "x = 2.0\n",
    "nterms = 100\n",
    "tol = 0.01 # percent\n",
    "ϵa = 10000\n",
    "n = 0\n",
    "while ϵa > tol:\n",
    "    newval = oldval + x**n/ factorial(n)\n",
    "    ϵa = abs( (newval - oldval)/newval) * 100\n",
    "    oldval = newval\n",
    "    n = n + 1\n",
    "    print(n, ϵa,'%')"
   ]
  },
  {
   "cell_type": "code",
   "execution_count": 4,
   "metadata": {},
   "outputs": [],
   "source": [
    "def mycos(x, nterms):\n",
    "    result = 0.0\n",
    "    for n in range(0,nterms):\n",
    "        result += (-1)**n * x**(2*n) / factorial(2*n)\n",
    "    return result"
   ]
  },
  {
   "cell_type": "code",
   "execution_count": 5,
   "metadata": {},
   "outputs": [
    {
     "ename": "NameError",
     "evalue": "name 'math' is not defined",
     "output_type": "error",
     "traceback": [
      "\u001b[0;31m---------------------------------------------------------------------------\u001b[0m",
      "\u001b[0;31mNameError\u001b[0m                                 Traceback (most recent call last)",
      "\u001b[0;32m<ipython-input-5-59e231322ede>\u001b[0m in \u001b[0;36m<module>\u001b[0;34m()\u001b[0m\n\u001b[0;32m----> 1\u001b[0;31m \u001b[0mprint\u001b[0m\u001b[0;34m(\u001b[0m\u001b[0mmycos\u001b[0m\u001b[0;34m(\u001b[0m\u001b[0;36m3\u001b[0m\u001b[0;34m,\u001b[0m \u001b[0;36m5\u001b[0m\u001b[0;34m)\u001b[0m\u001b[0;34m,\u001b[0m \u001b[0mmath\u001b[0m\u001b[0;34m.\u001b[0m\u001b[0mcos\u001b[0m\u001b[0;34m(\u001b[0m\u001b[0;36m3\u001b[0m\u001b[0;34m)\u001b[0m\u001b[0;34m)\u001b[0m\u001b[0;34m\u001b[0m\u001b[0m\n\u001b[0m",
      "\u001b[0;31mNameError\u001b[0m: name 'math' is not defined"
     ]
    }
   ],
   "source": [
    "print(mycos(3, 5), math.cos(3))"
   ]
  },
  {
   "cell_type": "code",
   "execution_count": null,
   "metadata": {},
   "outputs": [],
   "source": []
  }
 ],
 "metadata": {
  "anaconda-cloud": {},
  "kernelspec": {
   "display_name": "Python [default]",
   "language": "python",
   "name": "python3"
  },
  "language_info": {
   "codemirror_mode": {
    "name": "ipython",
    "version": 3
   },
   "file_extension": ".py",
   "mimetype": "text/x-python",
   "name": "python",
   "nbconvert_exporter": "python",
   "pygments_lexer": "ipython3",
   "version": "3.6.5"
  },
  "toc": {
   "base_numbering": 1,
   "nav_menu": {},
   "number_sections": true,
   "sideBar": true,
   "skip_h1_title": false,
   "title_cell": "Table of Contents",
   "title_sidebar": "Contents",
   "toc_cell": false,
   "toc_position": {},
   "toc_section_display": true,
   "toc_window_display": false
  }
 },
 "nbformat": 4,
 "nbformat_minor": 2
}
